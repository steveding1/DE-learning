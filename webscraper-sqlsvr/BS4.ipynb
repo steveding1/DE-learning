{
  "nbformat": 4,
  "nbformat_minor": 0,
  "metadata": {
    "colab": {
      "name": "BS4.ipynb",
      "provenance": []
    },
    "kernelspec": {
      "name": "python3",
      "display_name": "Python 3"
    },
    "language_info": {
      "name": "python"
    }
  },
  "cells": [
    {
      "cell_type": "code",
      "execution_count": null,
      "metadata": {
        "id": "BLs-0wivHroS"
      },
      "outputs": [],
      "source": [
        "from bs4 import BeautifulSoup\n",
        "import pandas as pd\n",
        "import requests\n",
        "import re"
      ]
    },
    {
      "cell_type": "code",
      "source": [
        "url = 'https://www.thewhiskyexchange.com/c/40/single-malt-scotch-whisky'"
      ],
      "metadata": {
        "id": "UV_T_qO5HzCc"
      },
      "execution_count": null,
      "outputs": []
    },
    {
      "cell_type": "code",
      "source": [
        "def soup(url):\n",
        "  return BeautifulSoup(requests.get(url).content,'lxml')"
      ],
      "metadata": {
        "id": "zb_MWegeIWq6"
      },
      "execution_count": null,
      "outputs": []
    },
    {
      "cell_type": "code",
      "source": [
        "soup1 = soup(url)"
      ],
      "metadata": {
        "id": "VNBXlMO9Iqyp"
      },
      "execution_count": null,
      "outputs": []
    },
    {
      "cell_type": "code",
      "source": [
        "type(soup1)"
      ],
      "metadata": {
        "colab": {
          "base_uri": "https://localhost:8080/"
        },
        "id": "PTAgJnwUIyNi",
        "outputId": "ba8dde9b-2dfb-4de4-e1e0-dd57031d89f8"
      },
      "execution_count": null,
      "outputs": [
        {
          "output_type": "execute_result",
          "data": {
            "text/plain": [
              "bs4.BeautifulSoup"
            ]
          },
          "metadata": {},
          "execution_count": 9
        }
      ]
    },
    {
      "cell_type": "markdown",
      "source": [
        "Get the number of total pages from\n",
        "\n",
        "```\n",
        "<nav class=\"paging js-paging\" data-currentpage=\"1\" data-totalpages=\"109\">\n",
        "\n",
        "```\n",
        "Get items' info from\n",
        "```\n",
        "'''\n",
        "<div class=\"product-card__content\">\n",
        "<p class=\"product-card__name\"> Deanston 18 Year Old </p>\n",
        "<p class=\"product-card__meta\"> 70cl / 46.3% </p>\n",
        "</div>\n",
        "<div class=\"product-card__data\">\n",
        "<p class=\"product-card__price\"> £74.95 </p>\n",
        "<p class=\"product-card__unit-price\"> (£107.07 per litre) </p>\n",
        "</div>'''\n",
        "```\n"
      ],
      "metadata": {
        "id": "U08peUc6JHmz"
      }
    },
    {
      "cell_type": "code",
      "source": [
        "pages = int(soup1.find('nav', class_ = \"paging js-paging\").attrs['data-totalpages'])\n",
        "pages"
      ],
      "metadata": {
        "colab": {
          "base_uri": "https://localhost:8080/"
        },
        "id": "BFviEOnbJvLU",
        "outputId": "c4ed1403-b32f-4739-f641-e1f7d4073d92"
      },
      "execution_count": null,
      "outputs": [
        {
          "output_type": "execute_result",
          "data": {
            "text/plain": [
              "109"
            ]
          },
          "metadata": {},
          "execution_count": 37
        }
      ]
    },
    {
      "cell_type": "code",
      "source": [
        "prod_content = soup1.find_all('div', class_=\"product-card__content\")\n",
        "prod_data = soup1.find_all('div', class_=\"product-card__data\")\n",
        "# Should not continute put to the dataframe if not all items have both tags!\n",
        "len(prod_content) == len(prod_data) "
      ],
      "metadata": {
        "colab": {
          "base_uri": "https://localhost:8080/"
        },
        "id": "NoifK5kyK98l",
        "outputId": "c798fa99-4ef9-4145-8c25-603eb3742cea"
      },
      "execution_count": null,
      "outputs": [
        {
          "output_type": "execute_result",
          "data": {
            "text/plain": [
              "True"
            ]
          },
          "metadata": {},
          "execution_count": 45
        }
      ]
    },
    {
      "cell_type": "code",
      "source": [
        "prod_data[0]"
      ],
      "metadata": {
        "colab": {
          "base_uri": "https://localhost:8080/"
        },
        "id": "209ZXRjRRyCL",
        "outputId": "08ebbf50-aae8-4c1d-c436-6707f4a9a36a"
      },
      "execution_count": null,
      "outputs": [
        {
          "output_type": "execute_result",
          "data": {
            "text/plain": [
              "<div class=\"product-card__data\"><p class=\"product-card__price\"> £74.95 </p><p class=\"product-card__unit-price\"> (£107.07 per litre) </p></div>"
            ]
          },
          "metadata": {},
          "execution_count": 74
        }
      ]
    },
    {
      "cell_type": "code",
      "source": [
        "i = 10\n",
        "print(\n",
        "    prod_content[i].find('p',class_=\"product-card__name\").text.strip(),\n",
        "    prod_content[i].find('p',class_=\"product-card__meta\").text.strip(),\n",
        "    prod_data[i].find('p',class_=\"product-card__price\").text.strip().strip('£'),\n",
        "    re.sub('[^\\d\\.]','', prod_data[i].find('p',class_=\"product-card__unit-price\").text.strip()),\n",
        "    prod_content[i].find('p',class_=\"product-card__meta\").text.strip().split('/'),\n",
        "    sep='\\n'\n",
        ")"
      ],
      "metadata": {
        "colab": {
          "base_uri": "https://localhost:8080/"
        },
        "id": "obngqJQsLSAc",
        "outputId": "a75e9946-c459-409d-a656-602a0d6fa50b"
      },
      "execution_count": null,
      "outputs": [
        {
          "output_type": "stream",
          "name": "stdout",
          "text": [
            "Aberlour 200613 Year Old Sherry Cask Distillery Reserve Collection\n",
            "50cl / 60.9%\n",
            "89.95\n",
            "179.90\n",
            "['50cl ', ' 60.9%']\n"
          ]
        }
      ]
    },
    {
      "cell_type": "code",
      "source": [
        "df = pd.DataFrame(columns=['name', 'volumn(cl)', 'alcohol', 'price(£)', 'price/l'])\n",
        "for i in range(len(prod_content)):\n",
        "  templist = [\n",
        "      prod_content[i].find('p',class_=\"product-card__name\").text.strip(),\n",
        "      float(prod_data[i].find('p',class_=\"product-card__price\").text.strip().strip('£')),\n",
        "      float(re.sub('[^\\d\\.]','', \n",
        "        prod_data[i].find('p',class_=\"product-card__unit-price\").text.strip()))\n",
        "      ]\n",
        "  cardmeta = prod_content[i].find('p',class_=\"product-card__meta\").text.strip().split('/')\n",
        "  templist.insert(1,\n",
        "      float(cardmeta[1].strip().strip('%')))\n",
        "  templist.insert(1,\n",
        "      int(cardmeta[0].strip().strip('cl')))\n",
        "  tempdf = pd.DataFrame(\n",
        "      [templist],\n",
        "      columns=['name', 'volumn(cl)', 'alcohol', 'price(£)', 'price/l'])\n",
        "  df = pd.concat([df,tempdf],ignore_index=True)"
      ],
      "metadata": {
        "id": "PnOTK9o6Rwgw"
      },
      "execution_count": null,
      "outputs": []
    },
    {
      "cell_type": "code",
      "source": [
        "df"
      ],
      "metadata": {
        "colab": {
          "base_uri": "https://localhost:8080/",
          "height": 802
        },
        "id": "xMWKo-lYXmau",
        "outputId": "8dc76b3f-870f-4a0e-afd4-4936959b01cb"
      },
      "execution_count": null,
      "outputs": [
        {
          "output_type": "execute_result",
          "data": {
            "text/plain": [
              "                                                 name volumn(cl)  alcohol  \\\n",
              "0                                Deanston 18 Year Old         70     46.3   \n",
              "1                               Lagavulin 16 Year Old         70     43.0   \n",
              "2                  Balvenie 14 Year OldCaribbean Cask         70     43.0   \n",
              "3                      Macallan 12 Year OldSherry Oak         70     40.0   \n",
              "4    Mortlach 15 Year OldGame of Thrones Six Kingdoms         70     46.0   \n",
              "5         Balvenie 21 Year OldSecond Red Rose Stories         70     48.1   \n",
              "6       Caperdonich 18 Year Old PeatedSecret Speyside         70     48.0   \n",
              "7                    Macallan 12 Year Old Double Cask         70     40.0   \n",
              "8          Glendronach 15 Year Old RevivalSherry Cask         70     46.0   \n",
              "9                                   Arran 10 Year Old         70     46.0   \n",
              "10  Aberlour 200613 Year Old Sherry Cask Distiller...         50     60.9   \n",
              "11                    Balvenie 12 Year Old DoubleWood         70     40.0   \n",
              "12                        Nc'nean Organic Single Malt         70     46.0   \n",
              "13                            Glenfiddich 18 Year Old         70     40.0   \n",
              "14  Personalised Highland Special Reserve Single M...         70     48.0   \n",
              "15      Oban Bay ReserveGame of Thrones Night's Watch         70     43.0   \n",
              "16                           Bunnahabhain 12 Year Old         70     46.3   \n",
              "17                Glenallachie 15 Year OldSherry Cask         70     46.0   \n",
              "18  Glenfiddich Orchard ExperimentExperimental Ser...         70     43.0   \n",
              "19          Loch Lomond The Open Special Edition 2022         70     46.0   \n",
              "20                                   Ardbeg Uigeadail         70     54.2   \n",
              "21  Loch Lomond The Open Special Edition 20222 Gla...         70     46.0   \n",
              "22                     Ardbeg Ardcore & Uigeadail Duo        140     50.2   \n",
              "23     Glenfarclas 15 Year Old100 Proof TWE Exclusive         70     57.1   \n",
              "\n",
              "    price(£)  price/l  \n",
              "0      74.95   107.07  \n",
              "1      81.75   116.79  \n",
              "2      59.95    85.64  \n",
              "3      79.95   114.21  \n",
              "4      84.95   121.36  \n",
              "5     350.00   500.00  \n",
              "6     120.00   171.43  \n",
              "7      66.95    95.64  \n",
              "8      69.95    99.93  \n",
              "9      38.75    55.36  \n",
              "10     89.95   179.90  \n",
              "11     46.75    66.79  \n",
              "12     46.95    67.07  \n",
              "13     81.95   117.07  \n",
              "14     59.95    85.64  \n",
              "15     67.95    97.07  \n",
              "16     44.95    64.21  \n",
              "17     66.95    95.64  \n",
              "18     42.95    61.36  \n",
              "19     42.95    61.36  \n",
              "20     62.75    89.64  \n",
              "21     48.95    69.93  \n",
              "22    180.00   128.57  \n",
              "23     74.95   107.07  "
            ],
            "text/html": [
              "\n",
              "  <div id=\"df-0c53f46c-a5c0-4123-8590-b4a0b1068d95\">\n",
              "    <div class=\"colab-df-container\">\n",
              "      <div>\n",
              "<style scoped>\n",
              "    .dataframe tbody tr th:only-of-type {\n",
              "        vertical-align: middle;\n",
              "    }\n",
              "\n",
              "    .dataframe tbody tr th {\n",
              "        vertical-align: top;\n",
              "    }\n",
              "\n",
              "    .dataframe thead th {\n",
              "        text-align: right;\n",
              "    }\n",
              "</style>\n",
              "<table border=\"1\" class=\"dataframe\">\n",
              "  <thead>\n",
              "    <tr style=\"text-align: right;\">\n",
              "      <th></th>\n",
              "      <th>name</th>\n",
              "      <th>volumn(cl)</th>\n",
              "      <th>alcohol</th>\n",
              "      <th>price(£)</th>\n",
              "      <th>price/l</th>\n",
              "    </tr>\n",
              "  </thead>\n",
              "  <tbody>\n",
              "    <tr>\n",
              "      <th>0</th>\n",
              "      <td>Deanston 18 Year Old</td>\n",
              "      <td>70</td>\n",
              "      <td>46.3</td>\n",
              "      <td>74.95</td>\n",
              "      <td>107.07</td>\n",
              "    </tr>\n",
              "    <tr>\n",
              "      <th>1</th>\n",
              "      <td>Lagavulin 16 Year Old</td>\n",
              "      <td>70</td>\n",
              "      <td>43.0</td>\n",
              "      <td>81.75</td>\n",
              "      <td>116.79</td>\n",
              "    </tr>\n",
              "    <tr>\n",
              "      <th>2</th>\n",
              "      <td>Balvenie 14 Year OldCaribbean Cask</td>\n",
              "      <td>70</td>\n",
              "      <td>43.0</td>\n",
              "      <td>59.95</td>\n",
              "      <td>85.64</td>\n",
              "    </tr>\n",
              "    <tr>\n",
              "      <th>3</th>\n",
              "      <td>Macallan 12 Year OldSherry Oak</td>\n",
              "      <td>70</td>\n",
              "      <td>40.0</td>\n",
              "      <td>79.95</td>\n",
              "      <td>114.21</td>\n",
              "    </tr>\n",
              "    <tr>\n",
              "      <th>4</th>\n",
              "      <td>Mortlach 15 Year OldGame of Thrones Six Kingdoms</td>\n",
              "      <td>70</td>\n",
              "      <td>46.0</td>\n",
              "      <td>84.95</td>\n",
              "      <td>121.36</td>\n",
              "    </tr>\n",
              "    <tr>\n",
              "      <th>5</th>\n",
              "      <td>Balvenie 21 Year OldSecond Red Rose Stories</td>\n",
              "      <td>70</td>\n",
              "      <td>48.1</td>\n",
              "      <td>350.00</td>\n",
              "      <td>500.00</td>\n",
              "    </tr>\n",
              "    <tr>\n",
              "      <th>6</th>\n",
              "      <td>Caperdonich 18 Year Old PeatedSecret Speyside</td>\n",
              "      <td>70</td>\n",
              "      <td>48.0</td>\n",
              "      <td>120.00</td>\n",
              "      <td>171.43</td>\n",
              "    </tr>\n",
              "    <tr>\n",
              "      <th>7</th>\n",
              "      <td>Macallan 12 Year Old Double Cask</td>\n",
              "      <td>70</td>\n",
              "      <td>40.0</td>\n",
              "      <td>66.95</td>\n",
              "      <td>95.64</td>\n",
              "    </tr>\n",
              "    <tr>\n",
              "      <th>8</th>\n",
              "      <td>Glendronach 15 Year Old RevivalSherry Cask</td>\n",
              "      <td>70</td>\n",
              "      <td>46.0</td>\n",
              "      <td>69.95</td>\n",
              "      <td>99.93</td>\n",
              "    </tr>\n",
              "    <tr>\n",
              "      <th>9</th>\n",
              "      <td>Arran 10 Year Old</td>\n",
              "      <td>70</td>\n",
              "      <td>46.0</td>\n",
              "      <td>38.75</td>\n",
              "      <td>55.36</td>\n",
              "    </tr>\n",
              "    <tr>\n",
              "      <th>10</th>\n",
              "      <td>Aberlour 200613 Year Old Sherry Cask Distiller...</td>\n",
              "      <td>50</td>\n",
              "      <td>60.9</td>\n",
              "      <td>89.95</td>\n",
              "      <td>179.90</td>\n",
              "    </tr>\n",
              "    <tr>\n",
              "      <th>11</th>\n",
              "      <td>Balvenie 12 Year Old DoubleWood</td>\n",
              "      <td>70</td>\n",
              "      <td>40.0</td>\n",
              "      <td>46.75</td>\n",
              "      <td>66.79</td>\n",
              "    </tr>\n",
              "    <tr>\n",
              "      <th>12</th>\n",
              "      <td>Nc'nean Organic Single Malt</td>\n",
              "      <td>70</td>\n",
              "      <td>46.0</td>\n",
              "      <td>46.95</td>\n",
              "      <td>67.07</td>\n",
              "    </tr>\n",
              "    <tr>\n",
              "      <th>13</th>\n",
              "      <td>Glenfiddich 18 Year Old</td>\n",
              "      <td>70</td>\n",
              "      <td>40.0</td>\n",
              "      <td>81.95</td>\n",
              "      <td>117.07</td>\n",
              "    </tr>\n",
              "    <tr>\n",
              "      <th>14</th>\n",
              "      <td>Personalised Highland Special Reserve Single M...</td>\n",
              "      <td>70</td>\n",
              "      <td>48.0</td>\n",
              "      <td>59.95</td>\n",
              "      <td>85.64</td>\n",
              "    </tr>\n",
              "    <tr>\n",
              "      <th>15</th>\n",
              "      <td>Oban Bay ReserveGame of Thrones Night's Watch</td>\n",
              "      <td>70</td>\n",
              "      <td>43.0</td>\n",
              "      <td>67.95</td>\n",
              "      <td>97.07</td>\n",
              "    </tr>\n",
              "    <tr>\n",
              "      <th>16</th>\n",
              "      <td>Bunnahabhain 12 Year Old</td>\n",
              "      <td>70</td>\n",
              "      <td>46.3</td>\n",
              "      <td>44.95</td>\n",
              "      <td>64.21</td>\n",
              "    </tr>\n",
              "    <tr>\n",
              "      <th>17</th>\n",
              "      <td>Glenallachie 15 Year OldSherry Cask</td>\n",
              "      <td>70</td>\n",
              "      <td>46.0</td>\n",
              "      <td>66.95</td>\n",
              "      <td>95.64</td>\n",
              "    </tr>\n",
              "    <tr>\n",
              "      <th>18</th>\n",
              "      <td>Glenfiddich Orchard ExperimentExperimental Ser...</td>\n",
              "      <td>70</td>\n",
              "      <td>43.0</td>\n",
              "      <td>42.95</td>\n",
              "      <td>61.36</td>\n",
              "    </tr>\n",
              "    <tr>\n",
              "      <th>19</th>\n",
              "      <td>Loch Lomond The Open Special Edition 2022</td>\n",
              "      <td>70</td>\n",
              "      <td>46.0</td>\n",
              "      <td>42.95</td>\n",
              "      <td>61.36</td>\n",
              "    </tr>\n",
              "    <tr>\n",
              "      <th>20</th>\n",
              "      <td>Ardbeg Uigeadail</td>\n",
              "      <td>70</td>\n",
              "      <td>54.2</td>\n",
              "      <td>62.75</td>\n",
              "      <td>89.64</td>\n",
              "    </tr>\n",
              "    <tr>\n",
              "      <th>21</th>\n",
              "      <td>Loch Lomond The Open Special Edition 20222 Gla...</td>\n",
              "      <td>70</td>\n",
              "      <td>46.0</td>\n",
              "      <td>48.95</td>\n",
              "      <td>69.93</td>\n",
              "    </tr>\n",
              "    <tr>\n",
              "      <th>22</th>\n",
              "      <td>Ardbeg Ardcore &amp; Uigeadail Duo</td>\n",
              "      <td>140</td>\n",
              "      <td>50.2</td>\n",
              "      <td>180.00</td>\n",
              "      <td>128.57</td>\n",
              "    </tr>\n",
              "    <tr>\n",
              "      <th>23</th>\n",
              "      <td>Glenfarclas 15 Year Old100 Proof TWE Exclusive</td>\n",
              "      <td>70</td>\n",
              "      <td>57.1</td>\n",
              "      <td>74.95</td>\n",
              "      <td>107.07</td>\n",
              "    </tr>\n",
              "  </tbody>\n",
              "</table>\n",
              "</div>\n",
              "      <button class=\"colab-df-convert\" onclick=\"convertToInteractive('df-0c53f46c-a5c0-4123-8590-b4a0b1068d95')\"\n",
              "              title=\"Convert this dataframe to an interactive table.\"\n",
              "              style=\"display:none;\">\n",
              "        \n",
              "  <svg xmlns=\"http://www.w3.org/2000/svg\" height=\"24px\"viewBox=\"0 0 24 24\"\n",
              "       width=\"24px\">\n",
              "    <path d=\"M0 0h24v24H0V0z\" fill=\"none\"/>\n",
              "    <path d=\"M18.56 5.44l.94 2.06.94-2.06 2.06-.94-2.06-.94-.94-2.06-.94 2.06-2.06.94zm-11 1L8.5 8.5l.94-2.06 2.06-.94-2.06-.94L8.5 2.5l-.94 2.06-2.06.94zm10 10l.94 2.06.94-2.06 2.06-.94-2.06-.94-.94-2.06-.94 2.06-2.06.94z\"/><path d=\"M17.41 7.96l-1.37-1.37c-.4-.4-.92-.59-1.43-.59-.52 0-1.04.2-1.43.59L10.3 9.45l-7.72 7.72c-.78.78-.78 2.05 0 2.83L4 21.41c.39.39.9.59 1.41.59.51 0 1.02-.2 1.41-.59l7.78-7.78 2.81-2.81c.8-.78.8-2.07 0-2.86zM5.41 20L4 18.59l7.72-7.72 1.47 1.35L5.41 20z\"/>\n",
              "  </svg>\n",
              "      </button>\n",
              "      \n",
              "  <style>\n",
              "    .colab-df-container {\n",
              "      display:flex;\n",
              "      flex-wrap:wrap;\n",
              "      gap: 12px;\n",
              "    }\n",
              "\n",
              "    .colab-df-convert {\n",
              "      background-color: #E8F0FE;\n",
              "      border: none;\n",
              "      border-radius: 50%;\n",
              "      cursor: pointer;\n",
              "      display: none;\n",
              "      fill: #1967D2;\n",
              "      height: 32px;\n",
              "      padding: 0 0 0 0;\n",
              "      width: 32px;\n",
              "    }\n",
              "\n",
              "    .colab-df-convert:hover {\n",
              "      background-color: #E2EBFA;\n",
              "      box-shadow: 0px 1px 2px rgba(60, 64, 67, 0.3), 0px 1px 3px 1px rgba(60, 64, 67, 0.15);\n",
              "      fill: #174EA6;\n",
              "    }\n",
              "\n",
              "    [theme=dark] .colab-df-convert {\n",
              "      background-color: #3B4455;\n",
              "      fill: #D2E3FC;\n",
              "    }\n",
              "\n",
              "    [theme=dark] .colab-df-convert:hover {\n",
              "      background-color: #434B5C;\n",
              "      box-shadow: 0px 1px 3px 1px rgba(0, 0, 0, 0.15);\n",
              "      filter: drop-shadow(0px 1px 2px rgba(0, 0, 0, 0.3));\n",
              "      fill: #FFFFFF;\n",
              "    }\n",
              "  </style>\n",
              "\n",
              "      <script>\n",
              "        const buttonEl =\n",
              "          document.querySelector('#df-0c53f46c-a5c0-4123-8590-b4a0b1068d95 button.colab-df-convert');\n",
              "        buttonEl.style.display =\n",
              "          google.colab.kernel.accessAllowed ? 'block' : 'none';\n",
              "\n",
              "        async function convertToInteractive(key) {\n",
              "          const element = document.querySelector('#df-0c53f46c-a5c0-4123-8590-b4a0b1068d95');\n",
              "          const dataTable =\n",
              "            await google.colab.kernel.invokeFunction('convertToInteractive',\n",
              "                                                     [key], {});\n",
              "          if (!dataTable) return;\n",
              "\n",
              "          const docLinkHtml = 'Like what you see? Visit the ' +\n",
              "            '<a target=\"_blank\" href=https://colab.research.google.com/notebooks/data_table.ipynb>data table notebook</a>'\n",
              "            + ' to learn more about interactive tables.';\n",
              "          element.innerHTML = '';\n",
              "          dataTable['output_type'] = 'display_data';\n",
              "          await google.colab.output.renderOutput(dataTable, element);\n",
              "          const docLink = document.createElement('div');\n",
              "          docLink.innerHTML = docLinkHtml;\n",
              "          element.appendChild(docLink);\n",
              "        }\n",
              "      </script>\n",
              "    </div>\n",
              "  </div>\n",
              "  "
            ]
          },
          "metadata": {},
          "execution_count": 138
        }
      ]
    },
    {
      "cell_type": "code",
      "source": [
        "from sqlite3 import DataError\n",
        "from bs4 import BeautifulSoup\n",
        "import pandas as pd\n",
        "import requests\n",
        "import re\n",
        "\n",
        "url = 'https://www.thewhiskyexchange.com/c/40/single-malt-scotch-whisky'\n",
        "\n",
        "def soup(url:str) -> BeautifulSoup:\n",
        "  return BeautifulSoup(requests.get(url).content,'lxml')\n",
        "\n",
        "# transfer\n",
        "def soup_to_df(soup) -> pd.DataFrame:\n",
        "    prod_content = soup.find_all('div', class_=\"product-card__content\")\n",
        "    prod_data = soup.find_all('div', class_=\"product-card__data\")\n",
        "    # Should not continute put to the dataframe if not all items have both tags!\n",
        "    if len(prod_content) != len(prod_data):\n",
        "        raise Exception('the webpage content is missing something')\n",
        "    \n",
        "    df = pd.DataFrame(columns=['name', 'volumn(cl)', 'alcohol', 'price(£)', 'price/l'])\n",
        "    for i in range(len(prod_content)):\n",
        "        templist = [\n",
        "            prod_content[i].find('p',class_=\"product-card__name\").text.strip(),\n",
        "            float(prod_data[i].find('p',class_=\"product-card__price\").text.strip().strip('£')),\n",
        "            float(re.sub('[^\\d\\.]','', \n",
        "                prod_data[i].find('p',class_=\"product-card__unit-price\").text.strip()))\n",
        "            ]\n",
        "        cardmeta = prod_content[i].find('p',class_=\"product-card__meta\").text.strip().split('/')\n",
        "        templist.insert(1,\n",
        "            float(cardmeta[1].strip().strip('%')))\n",
        "        templist.insert(1,\n",
        "            int(cardmeta[0].strip().strip('cl')))\n",
        "        tempdf = pd.DataFrame(\n",
        "            [templist],\n",
        "            columns=['name', 'volumn(cl)', 'alcohol', 'price(£)', 'price/l'])\n",
        "        df = pd.concat([df,tempdf],ignore_index=True)\n",
        "\n",
        "    return df\n",
        "\n",
        "soup = soup(url)\n",
        "\n",
        "# get how many pages\n",
        "pages = int(soup.find('nav', class_ = \"paging js-paging\").attrs['data-totalpages'])\n",
        "\n",
        "#get data from the first(main) page\n",
        "df = soup_to_df(soup)\n",
        "\n",
        "#get data from the following pages\n",
        "for page in range(pages):\n",
        "    soup(url+'?pg='+str(page))\n",
        "    df = pd.concat([df,soup_to_df(soup)],ignore_index=True)\n"
      ],
      "metadata": {
        "id": "_ssIVpDo2QCT"
      },
      "execution_count": null,
      "outputs": []
    },
    {
      "cell_type": "code",
      "source": [
        "df.to_csv('wisky.csv')"
      ],
      "metadata": {
        "id": "7vFoFoCv2UmC"
      },
      "execution_count": null,
      "outputs": []
    },
    {
      "cell_type": "code",
      "source": [
        "df = pd.read_csv('wisky1.csv')"
      ],
      "metadata": {
        "colab": {
          "base_uri": "https://localhost:8080/",
          "height": 131
        },
        "id": "2iWHfeXHN6fN",
        "outputId": "9218369c-3ba1-447a-d8bd-8f0443a1e4f3"
      },
      "execution_count": null,
      "outputs": [
        {
          "output_type": "error",
          "ename": "SyntaxError",
          "evalue": "ignored",
          "traceback": [
            "\u001b[0;36m  File \u001b[0;32m\"<ipython-input-7-616da1299d6b>\"\u001b[0;36m, line \u001b[0;32m1\u001b[0m\n\u001b[0;31m    df = pd.read_csv('wisky1.csv',index_col=)\u001b[0m\n\u001b[0m                                            ^\u001b[0m\n\u001b[0;31mSyntaxError\u001b[0m\u001b[0;31m:\u001b[0m invalid syntax\n"
          ]
        }
      ]
    },
    {
      "cell_type": "code",
      "source": [
        "for index, row in df.iterrows():\n",
        "    break"
      ],
      "metadata": {
        "id": "Pw1-z0nfOECB"
      },
      "execution_count": null,
      "outputs": []
    },
    {
      "cell_type": "code",
      "source": [
        "row['price(£)']"
      ],
      "metadata": {
        "colab": {
          "base_uri": "https://localhost:8080/"
        },
        "id": "rNTx9WAGOWio",
        "outputId": "37353e4c-2267-4f2d-aa3c-8b66e23cb7f7"
      },
      "execution_count": null,
      "outputs": [
        {
          "output_type": "execute_result",
          "data": {
            "text/plain": [
              "74.95"
            ]
          },
          "metadata": {},
          "execution_count": 10
        }
      ]
    }
  ]
}